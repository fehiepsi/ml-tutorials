{
 "cells": [
  {
   "cell_type": "markdown",
   "metadata": {},
   "source": [
    "### Guide to study machine learning"
   ]
  },
  {
   "cell_type": "markdown",
   "metadata": {},
   "source": [
    "In the following, I present the best materials (in my own opinion) for studying Python, Machine learning, Bayesian analysis, Deep learning, Anomaly detection. I select those based on my own experience which concerning about many aspects (content, easy to follow, popular, modern,...)\n",
    "+ Best book for getting familiar with *Python scientific stack*: https://github.com/jakevdp/PythonDataScienceHandbook\n",
    "+ Best book for studying *Machine Learning with Python*: **Python Machine Learning** (the pdf file is included in Slack's `machine-learning` channel).\n",
    "+ Best book for *Bayesian analysis*: https://github.com/CamDavidsonPilon/Probabilistic-Programming-and-Bayesian-Methods-for-Hackers\n",
    "+ Best book for *Deep learning*: http://neuralnetworksanddeeplearning.com\n",
    "+ Best book for Anomaly detection: **Outlier Analysis** by Charu C. Aggarwal."
   ]
  },
  {
   "cell_type": "markdown",
   "metadata": {},
   "source": [
    "Beside these books, I want to stress that there are a lot of materials out there in youtube, blogs, websites, medium, MOOCs, twitter... For example, this website https://www.analyticsvidhya.com/ will give you many learning paths depending on your own favorite. The most popular forum is https://www.kaggle.com/ which has many competitions, notebooks (named kernels there), datasets, advices,... There is no way in this field better than practicing."
   ]
  },
  {
   "cell_type": "markdown",
   "metadata": {},
   "source": [
    "As a first step, you may follow things other people already did: run the code of other people; after a while, you will be really good. Hear the best advice from a giant in this field: https://www.youtube.com/watch?v=F1ka6a13S9I&feature=youtu.be&t=4270\n",
    "\n",
    "To begin with, why you not replicate things I have presented through our machine learning seminars?  Here is the link for you: https://github.com/AM2-Labs/postech-ml-tutorials"
   ]
  },
  {
   "cell_type": "markdown",
   "metadata": {},
   "source": [
    "**Note:** You might want to read papers instead of books if you want to do research in this field, starting with some popular open journals such as http://www.jmlr.org/,... choose some papers which interest you, follow its reference, learn background, then work around it.)"
   ]
  }
 ],
 "metadata": {
  "kernelspec": {
   "display_name": "Python [conda env:pydata]",
   "language": "python",
   "name": "conda-env-pydata-py"
  },
  "language_info": {
   "codemirror_mode": {
    "name": "ipython",
    "version": 3
   },
   "file_extension": ".py",
   "mimetype": "text/x-python",
   "name": "python",
   "nbconvert_exporter": "python",
   "pygments_lexer": "ipython3",
   "version": "3.5.2"
  }
 },
 "nbformat": 4,
 "nbformat_minor": 2
}
