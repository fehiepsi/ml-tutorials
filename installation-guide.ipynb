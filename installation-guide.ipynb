{
 "cells": [
  {
   "cell_type": "markdown",
   "metadata": {},
   "source": [
    "## Installation guide\n",
    "\n",
    "### 1. python\n",
    "\n",
    "**Option 1:** anaconda\n",
    "\n",
    "+ Download **anaconda** here: https://www.continuum.io/downloads\n",
    "+ Install: say **yes** to everything.\n",
    "+ Update:\n",
    "        conda update conda\n",
    "        conda update anaconda\n",
    "\n",
    "**Option 2:** miniconda\n",
    "\n",
    "+ Download **miniconda** here: http://conda.pydata.org/miniconda.html\n",
    "+ Install:\n",
    "        bash Miniconda3-latest-Linux-x86_64.sh\n",
    "and say **yes** to all questions.\n",
    "+ Update:\n",
    "        conda update conda\n",
    "        conda update --all\n",
    "\n",
    "### 2. pydata environment\n",
    "\n",
    "+ Create new environment:\n",
    "        conda create -n pydata\n",
    "+ Enable the environment (in linux):\n",
    "        source activate pydata\n",
    "+ Enable the environment (in windows):\n",
    "        activate pydata\n",
    "+ Install packages:\n",
    "        conda install jupyter seaborn scikit-learn pivottablejs qgrid\n",
    "        conda install -c conda-forge pandas-profiling jupyter_contrib_nbextensions\n",
    "+ Start working: go to the project directory, then do\n",
    "        jupyter notebook\n",
    "\n",
    "### 3. git\n",
    "\n",
    "+ Download **git** here: https://git-scm.com/\n",
    "+ Install: say **yes** to everything.\n",
    "+ Add global information (your registered information at GitHub):\n",
    "        git config --global user.name \"[firstname lastname]\"\n",
    "        git config --global user.email \"[valid-email]\"\n",
    "\n",
    "+ Clone the project:\n",
    "        git clone https://github.com/AM2-Labs/ml-exercises.git\n",
    "+ Start working:\n",
    "        cd ml-exercises\n",
    "        jupyter notebook"
   ]
  }
 ],
 "metadata": {
  "kernelspec": {
   "display_name": "Python [conda env:pydata]",
   "language": "python",
   "name": "conda-env-pydata-py"
  },
  "language_info": {
   "codemirror_mode": {
    "name": "ipython",
    "version": 3
   },
   "file_extension": ".py",
   "mimetype": "text/x-python",
   "name": "python",
   "nbconvert_exporter": "python",
   "pygments_lexer": "ipython3",
   "version": "3.5.2"
  }
 },
 "nbformat": 4,
 "nbformat_minor": 2
}
